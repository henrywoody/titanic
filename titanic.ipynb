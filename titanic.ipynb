{
 "cells": [
  {
   "cell_type": "markdown",
   "metadata": {},
   "source": [
    "# Titanic Dataset\n",
    "\n",
    "## Imports\n",
    "\n",
    "Start with importing the necessary libraries."
   ]
  },
  {
   "cell_type": "code",
   "execution_count": 1,
   "metadata": {},
   "outputs": [],
   "source": [
    "import pandas as pd\n",
    "import numpy as np\n",
    "\n",
    "import matplotlib.pyplot as plt\n",
    "import matplotlib.gridspec as gridspec\n",
    "from scipy.stats import gaussian_kde"
   ]
  },
  {
   "cell_type": "markdown",
   "metadata": {},
   "source": [
    "## Data\n",
    "\n",
    "Load in the data. <br>\n",
    "Source: https://www.kaggle.com/c/titanic"
   ]
  },
  {
   "cell_type": "code",
   "execution_count": 2,
   "metadata": {},
   "outputs": [
    {
     "name": "stdout",
     "output_type": "stream",
     "text": [
      "Number of Rows: 891\n",
      "Columns: ['PassengerId', 'Survived', 'Pclass', 'Name', 'Sex', 'Age', 'SibSp', 'Parch', 'Ticket', 'Fare', 'Cabin', 'Embarked']\n"
     ]
    }
   ],
   "source": [
    "df = pd.read_csv('data/train.csv')\n",
    "print('Number of Rows:', len(df))\n",
    "print('Columns:', list(df.columns))"
   ]
  },
  {
   "cell_type": "markdown",
   "metadata": {},
   "source": [
    "## Data Exploration\n",
    "\n",
    "Get a sense of the data. Look for patterns to measure statistically."
   ]
  },
  {
   "cell_type": "code",
   "execution_count": 3,
   "metadata": {},
   "outputs": [
    {
     "data": {
      "text/html": [
       "<div>\n",
       "<style scoped>\n",
       "    .dataframe tbody tr th:only-of-type {\n",
       "        vertical-align: middle;\n",
       "    }\n",
       "\n",
       "    .dataframe tbody tr th {\n",
       "        vertical-align: top;\n",
       "    }\n",
       "\n",
       "    .dataframe thead th {\n",
       "        text-align: right;\n",
       "    }\n",
       "</style>\n",
       "<table border=\"1\" class=\"dataframe\">\n",
       "  <thead>\n",
       "    <tr style=\"text-align: right;\">\n",
       "      <th></th>\n",
       "      <th>PassengerId</th>\n",
       "      <th>Survived</th>\n",
       "      <th>Pclass</th>\n",
       "      <th>Name</th>\n",
       "      <th>Sex</th>\n",
       "      <th>Age</th>\n",
       "      <th>SibSp</th>\n",
       "      <th>Parch</th>\n",
       "      <th>Ticket</th>\n",
       "      <th>Fare</th>\n",
       "      <th>Cabin</th>\n",
       "      <th>Embarked</th>\n",
       "    </tr>\n",
       "  </thead>\n",
       "  <tbody>\n",
       "    <tr>\n",
       "      <th>0</th>\n",
       "      <td>1</td>\n",
       "      <td>0</td>\n",
       "      <td>3</td>\n",
       "      <td>Braund, Mr. Owen Harris</td>\n",
       "      <td>male</td>\n",
       "      <td>22.0</td>\n",
       "      <td>1</td>\n",
       "      <td>0</td>\n",
       "      <td>A/5 21171</td>\n",
       "      <td>7.2500</td>\n",
       "      <td>NaN</td>\n",
       "      <td>S</td>\n",
       "    </tr>\n",
       "    <tr>\n",
       "      <th>1</th>\n",
       "      <td>2</td>\n",
       "      <td>1</td>\n",
       "      <td>1</td>\n",
       "      <td>Cumings, Mrs. John Bradley (Florence Briggs Th...</td>\n",
       "      <td>female</td>\n",
       "      <td>38.0</td>\n",
       "      <td>1</td>\n",
       "      <td>0</td>\n",
       "      <td>PC 17599</td>\n",
       "      <td>71.2833</td>\n",
       "      <td>C85</td>\n",
       "      <td>C</td>\n",
       "    </tr>\n",
       "    <tr>\n",
       "      <th>2</th>\n",
       "      <td>3</td>\n",
       "      <td>1</td>\n",
       "      <td>3</td>\n",
       "      <td>Heikkinen, Miss. Laina</td>\n",
       "      <td>female</td>\n",
       "      <td>26.0</td>\n",
       "      <td>0</td>\n",
       "      <td>0</td>\n",
       "      <td>STON/O2. 3101282</td>\n",
       "      <td>7.9250</td>\n",
       "      <td>NaN</td>\n",
       "      <td>S</td>\n",
       "    </tr>\n",
       "    <tr>\n",
       "      <th>3</th>\n",
       "      <td>4</td>\n",
       "      <td>1</td>\n",
       "      <td>1</td>\n",
       "      <td>Futrelle, Mrs. Jacques Heath (Lily May Peel)</td>\n",
       "      <td>female</td>\n",
       "      <td>35.0</td>\n",
       "      <td>1</td>\n",
       "      <td>0</td>\n",
       "      <td>113803</td>\n",
       "      <td>53.1000</td>\n",
       "      <td>C123</td>\n",
       "      <td>S</td>\n",
       "    </tr>\n",
       "    <tr>\n",
       "      <th>4</th>\n",
       "      <td>5</td>\n",
       "      <td>0</td>\n",
       "      <td>3</td>\n",
       "      <td>Allen, Mr. William Henry</td>\n",
       "      <td>male</td>\n",
       "      <td>35.0</td>\n",
       "      <td>0</td>\n",
       "      <td>0</td>\n",
       "      <td>373450</td>\n",
       "      <td>8.0500</td>\n",
       "      <td>NaN</td>\n",
       "      <td>S</td>\n",
       "    </tr>\n",
       "    <tr>\n",
       "      <th>5</th>\n",
       "      <td>6</td>\n",
       "      <td>0</td>\n",
       "      <td>3</td>\n",
       "      <td>Moran, Mr. James</td>\n",
       "      <td>male</td>\n",
       "      <td>NaN</td>\n",
       "      <td>0</td>\n",
       "      <td>0</td>\n",
       "      <td>330877</td>\n",
       "      <td>8.4583</td>\n",
       "      <td>NaN</td>\n",
       "      <td>Q</td>\n",
       "    </tr>\n",
       "    <tr>\n",
       "      <th>6</th>\n",
       "      <td>7</td>\n",
       "      <td>0</td>\n",
       "      <td>1</td>\n",
       "      <td>McCarthy, Mr. Timothy J</td>\n",
       "      <td>male</td>\n",
       "      <td>54.0</td>\n",
       "      <td>0</td>\n",
       "      <td>0</td>\n",
       "      <td>17463</td>\n",
       "      <td>51.8625</td>\n",
       "      <td>E46</td>\n",
       "      <td>S</td>\n",
       "    </tr>\n",
       "    <tr>\n",
       "      <th>7</th>\n",
       "      <td>8</td>\n",
       "      <td>0</td>\n",
       "      <td>3</td>\n",
       "      <td>Palsson, Master. Gosta Leonard</td>\n",
       "      <td>male</td>\n",
       "      <td>2.0</td>\n",
       "      <td>3</td>\n",
       "      <td>1</td>\n",
       "      <td>349909</td>\n",
       "      <td>21.0750</td>\n",
       "      <td>NaN</td>\n",
       "      <td>S</td>\n",
       "    </tr>\n",
       "    <tr>\n",
       "      <th>8</th>\n",
       "      <td>9</td>\n",
       "      <td>1</td>\n",
       "      <td>3</td>\n",
       "      <td>Johnson, Mrs. Oscar W (Elisabeth Vilhelmina Berg)</td>\n",
       "      <td>female</td>\n",
       "      <td>27.0</td>\n",
       "      <td>0</td>\n",
       "      <td>2</td>\n",
       "      <td>347742</td>\n",
       "      <td>11.1333</td>\n",
       "      <td>NaN</td>\n",
       "      <td>S</td>\n",
       "    </tr>\n",
       "    <tr>\n",
       "      <th>9</th>\n",
       "      <td>10</td>\n",
       "      <td>1</td>\n",
       "      <td>2</td>\n",
       "      <td>Nasser, Mrs. Nicholas (Adele Achem)</td>\n",
       "      <td>female</td>\n",
       "      <td>14.0</td>\n",
       "      <td>1</td>\n",
       "      <td>0</td>\n",
       "      <td>237736</td>\n",
       "      <td>30.0708</td>\n",
       "      <td>NaN</td>\n",
       "      <td>C</td>\n",
       "    </tr>\n",
       "  </tbody>\n",
       "</table>\n",
       "</div>"
      ],
      "text/plain": [
       "   PassengerId  Survived  Pclass  \\\n",
       "0            1         0       3   \n",
       "1            2         1       1   \n",
       "2            3         1       3   \n",
       "3            4         1       1   \n",
       "4            5         0       3   \n",
       "5            6         0       3   \n",
       "6            7         0       1   \n",
       "7            8         0       3   \n",
       "8            9         1       3   \n",
       "9           10         1       2   \n",
       "\n",
       "                                                Name     Sex   Age  SibSp  \\\n",
       "0                            Braund, Mr. Owen Harris    male  22.0      1   \n",
       "1  Cumings, Mrs. John Bradley (Florence Briggs Th...  female  38.0      1   \n",
       "2                             Heikkinen, Miss. Laina  female  26.0      0   \n",
       "3       Futrelle, Mrs. Jacques Heath (Lily May Peel)  female  35.0      1   \n",
       "4                           Allen, Mr. William Henry    male  35.0      0   \n",
       "5                                   Moran, Mr. James    male   NaN      0   \n",
       "6                            McCarthy, Mr. Timothy J    male  54.0      0   \n",
       "7                     Palsson, Master. Gosta Leonard    male   2.0      3   \n",
       "8  Johnson, Mrs. Oscar W (Elisabeth Vilhelmina Berg)  female  27.0      0   \n",
       "9                Nasser, Mrs. Nicholas (Adele Achem)  female  14.0      1   \n",
       "\n",
       "   Parch            Ticket     Fare Cabin Embarked  \n",
       "0      0         A/5 21171   7.2500   NaN        S  \n",
       "1      0          PC 17599  71.2833   C85        C  \n",
       "2      0  STON/O2. 3101282   7.9250   NaN        S  \n",
       "3      0            113803  53.1000  C123        S  \n",
       "4      0            373450   8.0500   NaN        S  \n",
       "5      0            330877   8.4583   NaN        Q  \n",
       "6      0             17463  51.8625   E46        S  \n",
       "7      1            349909  21.0750   NaN        S  \n",
       "8      2            347742  11.1333   NaN        S  \n",
       "9      0            237736  30.0708   NaN        C  "
      ]
     },
     "execution_count": 3,
     "metadata": {},
     "output_type": "execute_result"
    }
   ],
   "source": [
    "df.head(10)"
   ]
  },
  {
   "cell_type": "markdown",
   "metadata": {},
   "source": [
    "### General Trends\n",
    "\n",
    "Simple relationships between survival and other variables."
   ]
  },
  {
   "cell_type": "code",
   "execution_count": 4,
   "metadata": {},
   "outputs": [
    {
     "data": {
      "text/plain": [
       "Died        61.6%\n",
       "Survived    38.4%\n",
       "Name: Survived, dtype: object"
      ]
     },
     "execution_count": 4,
     "metadata": {},
     "output_type": "execute_result"
    }
   ],
   "source": [
    "base_survival = ((df.Survived.value_counts() * 100)/ len(df)).round(1).astype(str) + '%'\n",
    "base_survival.index = ['Died', 'Survived']\n",
    "base_survival"
   ]
  },
  {
   "cell_type": "code",
   "execution_count": 5,
   "metadata": {},
   "outputs": [
    {
     "data": {
      "text/html": [
       "<div>\n",
       "<style scoped>\n",
       "    .dataframe tbody tr th:only-of-type {\n",
       "        vertical-align: middle;\n",
       "    }\n",
       "\n",
       "    .dataframe tbody tr th {\n",
       "        vertical-align: top;\n",
       "    }\n",
       "\n",
       "    .dataframe thead th {\n",
       "        text-align: right;\n",
       "    }\n",
       "</style>\n",
       "<table border=\"1\" class=\"dataframe\">\n",
       "  <thead>\n",
       "    <tr style=\"text-align: right;\">\n",
       "      <th></th>\n",
       "      <th>Age</th>\n",
       "      <th>Fare</th>\n",
       "      <th>Parch</th>\n",
       "      <th>PassengerId</th>\n",
       "      <th>Pclass</th>\n",
       "      <th>SibSp</th>\n",
       "    </tr>\n",
       "    <tr>\n",
       "      <th>Survived?</th>\n",
       "      <th></th>\n",
       "      <th></th>\n",
       "      <th></th>\n",
       "      <th></th>\n",
       "      <th></th>\n",
       "      <th></th>\n",
       "    </tr>\n",
       "  </thead>\n",
       "  <tbody>\n",
       "    <tr>\n",
       "      <th>No</th>\n",
       "      <td>30.626179</td>\n",
       "      <td>22.117887</td>\n",
       "      <td>0.329690</td>\n",
       "      <td>447.016393</td>\n",
       "      <td>2.531876</td>\n",
       "      <td>0.553734</td>\n",
       "    </tr>\n",
       "    <tr>\n",
       "      <th>Yes</th>\n",
       "      <td>28.343690</td>\n",
       "      <td>48.395408</td>\n",
       "      <td>0.464912</td>\n",
       "      <td>444.368421</td>\n",
       "      <td>1.950292</td>\n",
       "      <td>0.473684</td>\n",
       "    </tr>\n",
       "  </tbody>\n",
       "</table>\n",
       "</div>"
      ],
      "text/plain": [
       "                 Age       Fare     Parch  PassengerId    Pclass     SibSp\n",
       "Survived?                                                                 \n",
       "No         30.626179  22.117887  0.329690   447.016393  2.531876  0.553734\n",
       "Yes        28.343690  48.395408  0.464912   444.368421  1.950292  0.473684"
      ]
     },
     "execution_count": 5,
     "metadata": {},
     "output_type": "execute_result"
    }
   ],
   "source": [
    "pt = df.pivot_table(index='Survived')\n",
    "pt.index = pd.Series(['No', 'Yes'], name='Survived?')\n",
    "pt"
   ]
  },
  {
   "cell_type": "markdown",
   "metadata": {},
   "source": [
    "A few things of notice:\n",
    "<ul>\n",
    "    <li>Here we see that survivors tended to be younger than non-survivors.</li>\n",
    "    <li>They also tended to have paid a higher fare and stayed in a higher class (indicated by a lower number) than non-survivors. </li>\n",
    "    <li>In general, having a greater number of parents or children on board is correlated with a greater survival rate, but having <i>fewer</i> siblings/spouses was related to a higher rate of survival.</li>\n",
    "</ul>"
   ]
  },
  {
   "cell_type": "markdown",
   "metadata": {},
   "source": [
    "### Sex\n",
    "\n",
    "Look at differences in survival rates between the sexes:"
   ]
  },
  {
   "cell_type": "code",
   "execution_count": 6,
   "metadata": {},
   "outputs": [
    {
     "name": "stdout",
     "output_type": "stream",
     "text": [
      "Passenger sexual demographics:\n"
     ]
    },
    {
     "data": {
      "text/plain": [
       "male      577\n",
       "female    314\n",
       "Name: Sex, dtype: int64"
      ]
     },
     "execution_count": 6,
     "metadata": {},
     "output_type": "execute_result"
    }
   ],
   "source": [
    "print('Passenger sexual demographics:')\n",
    "df.Sex.value_counts()"
   ]
  },
  {
   "cell_type": "code",
   "execution_count": 7,
   "metadata": {},
   "outputs": [
    {
     "name": "stdout",
     "output_type": "stream",
     "text": [
      "Survival rates by sex:\n"
     ]
    },
    {
     "data": {
      "text/plain": [
       "Sex\n",
       "female    0.742038\n",
       "male      0.188908\n",
       "Name: Survived, dtype: float64"
      ]
     },
     "execution_count": 7,
     "metadata": {},
     "output_type": "execute_result"
    }
   ],
   "source": [
    "print('Survival rates by sex:')\n",
    "df.groupby('Sex').agg(np.mean)['Survived']"
   ]
  },
  {
   "cell_type": "code",
   "execution_count": 8,
   "metadata": {
    "scrolled": true
   },
   "outputs": [
    {
     "data": {
      "text/html": [
       "<div>\n",
       "<style scoped>\n",
       "    .dataframe tbody tr th:only-of-type {\n",
       "        vertical-align: middle;\n",
       "    }\n",
       "\n",
       "    .dataframe tbody tr th {\n",
       "        vertical-align: top;\n",
       "    }\n",
       "\n",
       "    .dataframe thead tr th {\n",
       "        text-align: left;\n",
       "    }\n",
       "\n",
       "    .dataframe thead tr:last-of-type th {\n",
       "        text-align: right;\n",
       "    }\n",
       "</style>\n",
       "<table border=\"1\" class=\"dataframe\">\n",
       "  <thead>\n",
       "    <tr>\n",
       "      <th></th>\n",
       "      <th colspan=\"2\" halign=\"left\">Age</th>\n",
       "      <th colspan=\"2\" halign=\"left\">Fare</th>\n",
       "      <th colspan=\"2\" halign=\"left\">Parch</th>\n",
       "      <th colspan=\"2\" halign=\"left\">PassengerId</th>\n",
       "      <th colspan=\"2\" halign=\"left\">Pclass</th>\n",
       "      <th colspan=\"2\" halign=\"left\">SibSp</th>\n",
       "    </tr>\n",
       "    <tr>\n",
       "      <th>Survived</th>\n",
       "      <th>0</th>\n",
       "      <th>1</th>\n",
       "      <th>0</th>\n",
       "      <th>1</th>\n",
       "      <th>0</th>\n",
       "      <th>1</th>\n",
       "      <th>0</th>\n",
       "      <th>1</th>\n",
       "      <th>0</th>\n",
       "      <th>1</th>\n",
       "      <th>0</th>\n",
       "      <th>1</th>\n",
       "    </tr>\n",
       "    <tr>\n",
       "      <th>Sex</th>\n",
       "      <th></th>\n",
       "      <th></th>\n",
       "      <th></th>\n",
       "      <th></th>\n",
       "      <th></th>\n",
       "      <th></th>\n",
       "      <th></th>\n",
       "      <th></th>\n",
       "      <th></th>\n",
       "      <th></th>\n",
       "      <th></th>\n",
       "      <th></th>\n",
       "    </tr>\n",
       "  </thead>\n",
       "  <tbody>\n",
       "    <tr>\n",
       "      <th>female</th>\n",
       "      <td>25.046875</td>\n",
       "      <td>28.847716</td>\n",
       "      <td>23.024385</td>\n",
       "      <td>51.938573</td>\n",
       "      <td>1.037037</td>\n",
       "      <td>0.515021</td>\n",
       "      <td>434.851852</td>\n",
       "      <td>429.699571</td>\n",
       "      <td>2.851852</td>\n",
       "      <td>1.918455</td>\n",
       "      <td>1.209877</td>\n",
       "      <td>0.515021</td>\n",
       "    </tr>\n",
       "    <tr>\n",
       "      <th>male</th>\n",
       "      <td>31.618056</td>\n",
       "      <td>27.276022</td>\n",
       "      <td>21.960993</td>\n",
       "      <td>40.821484</td>\n",
       "      <td>0.207265</td>\n",
       "      <td>0.357798</td>\n",
       "      <td>449.121795</td>\n",
       "      <td>475.724771</td>\n",
       "      <td>2.476496</td>\n",
       "      <td>2.018349</td>\n",
       "      <td>0.440171</td>\n",
       "      <td>0.385321</td>\n",
       "    </tr>\n",
       "  </tbody>\n",
       "</table>\n",
       "</div>"
      ],
      "text/plain": [
       "                Age                  Fare                Parch            \\\n",
       "Survived          0          1          0          1         0         1   \n",
       "Sex                                                                        \n",
       "female    25.046875  28.847716  23.024385  51.938573  1.037037  0.515021   \n",
       "male      31.618056  27.276022  21.960993  40.821484  0.207265  0.357798   \n",
       "\n",
       "         PassengerId                Pclass               SibSp            \n",
       "Survived           0           1         0         1         0         1  \n",
       "Sex                                                                       \n",
       "female    434.851852  429.699571  2.851852  1.918455  1.209877  0.515021  \n",
       "male      449.121795  475.724771  2.476496  2.018349  0.440171  0.385321  "
      ]
     },
     "execution_count": 8,
     "metadata": {},
     "output_type": "execute_result"
    }
   ],
   "source": [
    "df.pivot_table(index='Sex',\n",
    "               columns='Survived',\n",
    "               aggfunc=np.mean)"
   ]
  },
  {
   "cell_type": "markdown",
   "metadata": {},
   "source": [
    "So far we can see that female passengers were much more likely to survive the ship's sinking than men. We can also see that female survivors tended to be older than female passengers who did not survive, but that the opposite relationship holds for men."
   ]
  },
  {
   "cell_type": "markdown",
   "metadata": {},
   "source": [
    "### Age"
   ]
  },
  {
   "cell_type": "code",
   "execution_count": 9,
   "metadata": {},
   "outputs": [
    {
     "name": "stdout",
     "output_type": "stream",
     "text": [
      "Min Age: 0.42\n",
      "Max Age: 80.0\n"
     ]
    }
   ],
   "source": [
    "print('Min Age:', min(df.Age))\n",
    "print('Max Age:', max(df.Age))"
   ]
  },
  {
   "cell_type": "code",
   "execution_count": 10,
   "metadata": {},
   "outputs": [
    {
     "name": "stderr",
     "output_type": "stream",
     "text": [
      "/usr/local/lib/python3.7/site-packages/matplotlib/cbook/__init__.py:424: MatplotlibDeprecationWarning: \n",
      "Passing one of 'on', 'true', 'off', 'false' as a boolean is deprecated; use an actual boolean (True/False) instead.\n",
      "  warn_deprecated(\"2.2\", \"Passing one of 'on', 'true', 'off', 'false' as a \"\n"
     ]
    },
    {
     "data": {
      "image/png": "[encoded data removed]",
      "text/plain": [
       "<Figure size 576x432 with 1 Axes>"
      ]
     },
     "metadata": {
      "needs_background": "light"
     },
     "output_type": "display_data"
    }
   ],
   "source": [
    "fig = plt.figure(figsize=(8,6))\n",
    "ax = fig.add_subplot(111)\n",
    "\n",
    "died = df[df.Survived == 0]['Age'].dropna()\n",
    "survived = df[df.Survived == 1]['Age'].dropna()\n",
    "\n",
    "died_density = gaussian_kde(died)\n",
    "xs = np.linspace(0,80,200)\n",
    "died_density.covariance_factor = lambda : .25\n",
    "died_density._compute_covariance()\n",
    "plt.plot(xs,died_density(xs), color='#cc2000', label='Died')\n",
    "\n",
    "survived_density = gaussian_kde(survived)\n",
    "xs = np.linspace(0,80,200)\n",
    "survived_density.covariance_factor = lambda : .25\n",
    "survived_density._compute_covariance()\n",
    "plt.plot(xs,survived_density(xs), color='#228b22', label='Survived')\n",
    "\n",
    "\n",
    "plt.yticks([])\n",
    "plt.tick_params(bottom='off')\n",
    "for spine in ax.spines.values():\n",
    "    spine.set_visible(False)\n",
    "    \n",
    "plt.legend()\n",
    "plt.xlabel('Age in Years')\n",
    "plt.title('Density of Age by Survival Status', fontsize=15)\n",
    "\n",
    "\n",
    "plt.show()"
   ]
  },
  {
   "cell_type": "markdown",
   "metadata": {},
   "source": [
    "Looking at the plot above, we can see that the age trends for people in both survival groups are quite similar. We can see that survivors had a somewhat wider range of ages, while those who died were more concentrated at around 20-30 years old. Also there is a large concentration of very young children (less than 5-7 years old) that survived."
   ]
  },
  {
   "cell_type": "markdown",
   "metadata": {},
   "source": [
    "### Socio-Economics"
   ]
  },
  {
   "cell_type": "code",
   "execution_count": 11,
   "metadata": {},
   "outputs": [
    {
     "name": "stdout",
     "output_type": "stream",
     "text": [
      "Min Fare: 0.0\n",
      "Max Fare: 512.3292\n"
     ]
    }
   ],
   "source": [
    "print('Min Fare:', min(df.Fare))\n",
    "print('Max Fare:', max(df.Fare))"
   ]
  },
  {
   "cell_type": "code",
   "execution_count": 12,
   "metadata": {},
   "outputs": [
    {
     "data": {
      "image/png": "[encoded data removed]",
      "text/plain": [
       "<Figure size 576x432 with 1 Axes>"
      ]
     },
     "metadata": {
      "needs_background": "light"
     },
     "output_type": "display_data"
    }
   ],
   "source": [
    "fig = plt.figure(figsize=(8,6))\n",
    "ax = fig.add_subplot(111)\n",
    "\n",
    "died = df[df.Survived == 0]['Fare'].dropna()\n",
    "survived = df[df.Survived == 1]['Fare'].dropna()\n",
    "\n",
    "died_density = gaussian_kde(died)\n",
    "xs = np.linspace(0,520,200)\n",
    "died_density.covariance_factor = lambda : .25\n",
    "died_density._compute_covariance()\n",
    "plt.plot(xs,died_density(xs), color='#cc2000', label='Died')\n",
    "\n",
    "survived_density = gaussian_kde(survived)\n",
    "xs = np.linspace(0,520,200)\n",
    "survived_density.covariance_factor = lambda : .25\n",
    "survived_density._compute_covariance()\n",
    "plt.plot(xs,survived_density(xs), color='#228b22', label='Survived')\n",
    "\n",
    "plt.yticks([])\n",
    "plt.tick_params(bottom='off')\n",
    "for spine in ax.spines.values():\n",
    "    spine.set_visible(False)\n",
    "    \n",
    "plt.legend()\n",
    "plt.xlabel('Fare Price')\n",
    "plt.title('Density of Fare Price by Survival Status', fontsize=15)\n",
    "\n",
    "\n",
    "plt.show()"
   ]
  },
  {
   "cell_type": "markdown",
   "metadata": {},
   "source": [
    "From the above plot we can see that most of the passengers who died paid quite a low fair price. While those who lived tended to have paid higher prices to board."
   ]
  },
  {
   "cell_type": "markdown",
   "metadata": {},
   "source": [
    "Now we'll explore the relationship between cabin class and survival."
   ]
  },
  {
   "cell_type": "code",
   "execution_count": 13,
   "metadata": {},
   "outputs": [
    {
     "data": {
      "image/png": "[encoded data removed]",
      "text/plain": [
       "<Figure size 864x720 with 3 Axes>"
      ]
     },
     "metadata": {
      "needs_background": "light"
     },
     "output_type": "display_data"
    }
   ],
   "source": [
    "fig = plt.figure(figsize=(12,10))\n",
    "gspec = gridspec.GridSpec(2,2)\n",
    "\n",
    "died = df[df.Survived == 0]['Pclass'].value_counts().sort_index()\n",
    "survived = df[df.Survived == 1]['Pclass'].value_counts().sort_index()\n",
    "\n",
    "class_labels = ['1st Class', '2nd Class', '3rd Class']\n",
    "class_colors = ['#228b22', '#00688b', '#dd2000']\n",
    "\n",
    "ax = plt.subplot(gspec[0,0])\n",
    "_, _, autotexts = plt.pie(died, labels=class_labels, colors=class_colors, autopct='%1.1f%%')\n",
    "for autotext in autotexts:\n",
    "    autotext.set_color('white')\n",
    "    autotext.set_size(12)\n",
    "plt.title('Died', fontsize=15)\n",
    "\n",
    "ax = plt.subplot(gspec[0,1])\n",
    "_, _, autotexts = plt.pie(survived, labels=class_labels, colors=class_colors, autopct='%1.1f%%')\n",
    "for autotext in autotexts:\n",
    "    autotext.set_color('white')\n",
    "    autotext.set_size(12)\n",
    "plt.title('Survived', fontsize=15)\n",
    "\n",
    "\n",
    "ax = plt.subplot(gspec[1,:])\n",
    "\n",
    "class_survival_rates = list(map(lambda class_num: len(df[(df.Pclass == class_num) & (df.Survived == 1)])/len(df[df.Pclass == class_num]),\n",
    "                                sorted(df.Pclass.unique())))\n",
    "\n",
    "#survivors\n",
    "x_pos = np.arange(len(df.Pclass.unique()))\n",
    "plt.bar(x_pos, class_survival_rates, width=0.5, color=class_colors)\n",
    "\n",
    "for pat in ax.patches:\n",
    "    ax.annotate(str(round(pat.get_height(), 3) * 100) + '%', (pat.get_x() + pat.get_width()/2, pat.get_height() - 0.05), horizontalalignment='center', color='white')\n",
    "\n",
    "plt.yticks([])\n",
    "plt.xticks(x_pos, class_labels)\n",
    "plt.xlim(-2,4)\n",
    "plt.tick_params(bottom='off')\n",
    "for spine in ax.spines.values():\n",
    "    spine.set_visible(False)\n",
    "    \n",
    "plt.title('Survival Rates by Class', fontsize=15)\n",
    "\n",
    "\n",
    "plt.show()"
   ]
  },
  {
   "cell_type": "code",
   "execution_count": 14,
   "metadata": {},
   "outputs": [
    {
     "data": {
      "text/plain": [
       "1    24.2%\n",
       "2    20.7%\n",
       "3    55.1%\n",
       "Name: Pclass, dtype: object"
      ]
     },
     "execution_count": 14,
     "metadata": {},
     "output_type": "execute_result"
    }
   ],
   "source": [
    "((df.Pclass.value_counts()*100 / len(df)).round(1).astype(str) + '%').sort_index()"
   ]
  },
  {
   "cell_type": "markdown",
   "metadata": {},
   "source": [
    "## Constructing a Model"
   ]
  },
  {
   "cell_type": "code",
   "execution_count": 68,
   "metadata": {},
   "outputs": [],
   "source": [
    "import sklearn\n",
    "\n",
    "from sklearn.tree import DecisionTreeClassifier\n",
    "from sklearn.ensemble import GradientBoostingClassifier\n",
    "\n",
    "from sklearn.preprocessing import LabelEncoder\n",
    "from sklearn.model_selection import train_test_split\n",
    "from sklearn.metrics import roc_auc_score"
   ]
  },
  {
   "cell_type": "code",
   "execution_count": 69,
   "metadata": {},
   "outputs": [
    {
     "data": {
      "text/plain": [
       "Pclass        int64\n",
       "Sex           int64\n",
       "Age         float64\n",
       "SibSp         int64\n",
       "Parch         int64\n",
       "Fare        float64\n",
       "Embarked      int64\n",
       "Survived      int64\n",
       "dtype: object"
      ]
     },
     "execution_count": 69,
     "metadata": {},
     "output_type": "execute_result"
    }
   ],
   "source": [
    "df.dtypes"
   ]
  },
  {
   "cell_type": "code",
   "execution_count": 82,
   "metadata": {},
   "outputs": [],
   "source": [
    "#Train/Test Split and creating Dummy Variables\n",
    "feature_cols = ['Pclass', 'Sex', 'Age', 'SibSp', 'Parch', 'Fare', 'Embarked']\n",
    "df = df[feature_cols + ['Survived']].dropna()\n",
    "df['Sex'] = LabelEncoder().fit_transform(df.Sex)\n",
    "df['Embarked'] = LabelEncoder().fit_transform(df.Embarked)\n",
    "X_train, X_test, y_train, y_test = train_test_split(df[feature_cols], df.Survived, random_state=0)"
   ]
  },
  {
   "cell_type": "markdown",
   "metadata": {},
   "source": [
    "### Baseline"
   ]
  },
  {
   "cell_type": "code",
   "execution_count": 83,
   "metadata": {},
   "outputs": [
    {
     "name": "stdout",
     "output_type": "stream",
     "text": [
      "Accuracy on training set: 0.9925093632958801\n",
      "Accuracy on test set: 0.7528089887640449\n",
      "Area under the ROC curve score on test set: 0.7631237006237006\n"
     ]
    }
   ],
   "source": [
    "tree = DecisionTreeClassifier(random_state=0)\n",
    "tree.fit(X_train, y_train)\n",
    "\n",
    "print('Accuracy on training set:',tree.score(X_train, y_train))\n",
    "print('Accuracy on test set:',tree.score(X_test, y_test))\n",
    "print('Area under the ROC curve score on test set:',roc_auc_score(y_test, tree.predict_proba(X_test)[:, 1]))"
   ]
  },
  {
   "cell_type": "markdown",
   "metadata": {},
   "source": [
    "### More Advanced"
   ]
  },
  {
   "cell_type": "code",
   "execution_count": 84,
   "metadata": {},
   "outputs": [
    {
     "name": "stdout",
     "output_type": "stream",
     "text": [
      "Accuracy on training set: 0.9588014981273408\n",
      "Accuracy on test set: 0.8202247191011236\n",
      "Area under the ROC curve score on test set: 0.8696075883575884\n"
     ]
    }
   ],
   "source": [
    "forest = GradientBoostingClassifier(learning_rate=0.1, max_depth=4, random_state=0)\n",
    "forest.fit(X_train, y_train)\n",
    "\n",
    "print('Accuracy on training set:',forest.score(X_train, y_train))\n",
    "print('Accuracy on test set:',forest.score(X_test, y_test))\n",
    "print('Area under the ROC curve score on test set:',roc_auc_score(y_test, forest.predict_proba(X_test)[:, 1]))"
   ]
  },
  {
   "cell_type": "code",
   "execution_count": 85,
   "metadata": {},
   "outputs": [
    {
     "name": "stdout",
     "output_type": "stream",
     "text": [
      "Feature\t\tImportance\n",
      "-------\t\t----------\n",
      "Sex \t\t 0.36039350889886784\n",
      "Age \t\t 0.212112952318116\n",
      "Fare \t\t 0.19334012828883973\n",
      "Pclass \t\t 0.15096508187307\n",
      "SibSp \t\t 0.057121469257133635\n",
      "Parch \t\t 0.014662754841404144\n",
      "Embarked \t 0.01140410452256863\n"
     ]
    }
   ],
   "source": [
    "feature_importances = dict(zip(feature_cols, forest.feature_importances_))\n",
    "sorted_importances = sorted(list(feature_importances.items()), key=lambda x: x[1], reverse=True)\n",
    "\n",
    "print(\"Feature\\t\\tImportance\")\n",
    "print(\"-------\\t\\t----------\")\n",
    "for feature, importance in sorted_importances:\n",
    "    padding = \"\\t\\t\" if len(feature) <= 6 else \"\\t\"\n",
    "    print(feature, padding, importance)"
   ]
  },
  {
   "cell_type": "code",
   "execution_count": 118,
   "metadata": {},
   "outputs": [],
   "source": [
    "def add_percent_labels(ax):\n",
    "    for pat in ax.patches:\n",
    "        if pat.get_height() > 0.05:\n",
    "            height_offset = -0.02\n",
    "            color = \"white\"\n",
    "        else:\n",
    "            height_offset = 0.01\n",
    "            color = \"#1f77b4\"\n",
    "\n",
    "        rounded_importance_label = str((int(round(pat.get_height(), 3) * 1000)) / 10) + '%'\n",
    "        ax.annotate(\n",
    "            rounded_importance_label, (pat.get_x() + pat.get_width()/2, pat.get_height() + height_offset),\n",
    "            horizontalalignment='center',\n",
    "            color=color\n",
    "        )"
   ]
  },
  {
   "cell_type": "code",
   "execution_count": 119,
   "metadata": {},
   "outputs": [
    {
     "data": {
      "image/png": "[encoded data removed]",
      "text/plain": [
       "<Figure size 576x432 with 1 Axes>"
      ]
     },
     "metadata": {
      "needs_background": "light"
     },
     "output_type": "display_data"
    }
   ],
   "source": [
    "fig = plt.figure(figsize=(8,6))\n",
    "ax = fig.add_subplot(111)\n",
    "\n",
    "features = [x[0] for x in sorted_importances]\n",
    "importances = [x[1] for x in sorted_importances]\n",
    "\n",
    "x_pos = np.arange(len(sorted_importances))\n",
    "plt.bar(x_pos, importances)\n",
    "\n",
    "\n",
    "plt.yticks([])\n",
    "plt.xticks(x_pos, features)\n",
    "plt.tick_params(bottom='off')\n",
    "for spine in ax.spines.values():\n",
    "    spine.set_visible(False)\n",
    "    \n",
    "add_percent_labels(ax)\n",
    "\n",
    "plt.title('Feature Importances')\n",
    "\n",
    "plt.show()"
   ]
  },
  {
   "cell_type": "markdown",
   "metadata": {},
   "source": [
    "### A Little Further"
   ]
  },
  {
   "cell_type": "code",
   "execution_count": 87,
   "metadata": {},
   "outputs": [
    {
     "name": "stdout",
     "output_type": "stream",
     "text": [
      "Male\n",
      "Accuracy on training set: 0.976401179941003\n",
      "Accuracy on test set: 0.8157894736842105\n",
      "Area under the ROC curve score on test set: 0.6536824180502341\n",
      "\n",
      "Female\n",
      "Accuracy on training set: 0.9948453608247423\n",
      "Accuracy on test set: 0.8153846153846154\n",
      "Area under the ROC curve score on test set: 0.876\n"
     ]
    }
   ],
   "source": [
    "male = df[df.Sex == 1]\n",
    "female = df[df.Sex == 0]\n",
    "\n",
    "feature_cols.remove('Sex')\n",
    "\n",
    "X_train_male, X_test_male, y_train_male, y_test_male = train_test_split(male[feature_cols], male.Survived, random_state=0)\n",
    "X_train_female, X_test_female, y_train_female, y_test_female = train_test_split(female[feature_cols], female.Survived, random_state=0)\n",
    "\n",
    "male_forest = GradientBoostingClassifier(learning_rate=0.1, max_depth=4, random_state=0)\n",
    "male_forest.fit(X_train_male, y_train_male)\n",
    "female_forest = GradientBoostingClassifier(learning_rate=0.1, max_depth=4, random_state=0)\n",
    "female_forest.fit(X_train_female, y_train_female)\n",
    "\n",
    "print('Male')\n",
    "print('Accuracy on training set:',male_forest.score(X_train_male, y_train_male))\n",
    "print('Accuracy on test set:',male_forest.score(X_test_male, y_test_male))\n",
    "print('Area under the ROC curve score on test set:',roc_auc_score(y_test_male, male_forest.predict_proba(X_test_male)[:, 1]))\n",
    "print('\\nFemale')\n",
    "print('Accuracy on training set:',female_forest.score(X_train_female, y_train_female))\n",
    "print('Accuracy on test set:',female_forest.score(X_test_female, y_test_female))\n",
    "print('Area under the ROC curve score on test set:',roc_auc_score(y_test_female, female_forest.predict_proba(X_test_female)[:, 1]))"
   ]
  },
  {
   "cell_type": "code",
   "execution_count": 90,
   "metadata": {},
   "outputs": [],
   "source": [
    "# sort using original sorting (above)\n",
    "sorted_features = features\n",
    "\n",
    "male_feature_importances = dict(zip(feature_cols, men_forest.feature_importances_))\n",
    "sorted_male_importances = sorted(list(male_feature_importances.items()), key=lambda x: sorted_features.index(x[0]))\n",
    "\n",
    "female_feature_importances = dict(zip(feature_cols, women_forest.feature_importances_))\n",
    "sorted_female_importances = sorted(list(female_feature_importances.items()), key=lambda x: sorted_features.index(x[0]))"
   ]
  },
  {
   "cell_type": "code",
   "execution_count": 120,
   "metadata": {},
   "outputs": [
    {
     "data": {
      "image/png": "[encoded data removed]",
      "text/plain": [
       "<Figure size 864x576 with 2 Axes>"
      ]
     },
     "metadata": {
      "needs_background": "light"
     },
     "output_type": "display_data"
    }
   ],
   "source": [
    "fig = plt.figure(figsize=(12,8))\n",
    "\n",
    "ax = fig.add_subplot(121)\n",
    "\n",
    "male_features = [x[0] for x in sorted_male_importances]\n",
    "male_importances = [x[1] for x in sorted_male_importances]\n",
    "\n",
    "x_pos = np.arange(len(sorted_male_importances))\n",
    "plt.bar(x_pos, male_importances)\n",
    "\n",
    "plt.yticks([])\n",
    "plt.xticks(x_pos, male_features)\n",
    "plt.tick_params(bottom='off')\n",
    "for spine in ax.spines.values():\n",
    "    spine.set_visible(False)\n",
    "\n",
    "add_percent_labels(ax)\n",
    "    \n",
    "plt.title('Male Feature Importances')\n",
    "\n",
    "\n",
    "\n",
    "ax = fig.add_subplot(122)\n",
    "\n",
    "female_features = [x[0] for x in sorted_female_importances]\n",
    "female_importances = [x[1] for x in sorted_female_importances]\n",
    "\n",
    "x_pos = np.arange(len(sorted_female_importances))\n",
    "plt.bar(x_pos, female_importances)\n",
    "\n",
    "plt.yticks([])\n",
    "plt.xticks(x_pos, female_features)\n",
    "plt.tick_params(bottom='off')\n",
    "for spine in ax.spines.values():\n",
    "    spine.set_visible(False)\n",
    "\n",
    "add_percent_labels(ax)\n",
    "\n",
    "plt.title('Female Feature Importances')\n",
    "\n",
    "plt.show()\n",
    "\n",
    "plt.show()"
   ]
  },
  {
   "cell_type": "markdown",
   "metadata": {},
   "source": [
    "Of notice in the above charts:\n",
    "<ul>\n",
    "    <li>Age becomes very important with Sex removed</li>\n",
    "    <li>Age was more important than Fare for men but the reverse was true for women</li>\n",
    "    <li>Pclass was much more important for women than men</li>\n",
    "    <li>SibSp was much more important for men than for women</li>\n",
    "</ul>"
   ]
  },
  {
   "cell_type": "code",
   "execution_count": null,
   "metadata": {},
   "outputs": [],
   "source": []
  }
 ],
 "metadata": {
  "kernelspec": {
   "display_name": "Python 3",
   "language": "python",
   "name": "python3"
  },
  "language_info": {
   "codemirror_mode": {
    "name": "ipython",
    "version": 3
   },
   "file_extension": ".py",
   "mimetype": "text/x-python",
   "name": "python",
   "nbconvert_exporter": "python",
   "pygments_lexer": "ipython3",
   "version": "3.7.2"
  }
 },
 "nbformat": 4,
 "nbformat_minor": 2
}
